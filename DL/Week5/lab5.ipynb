{
 "cells": [
  {
   "cell_type": "code",
   "execution_count": 41,
   "id": "a439820f-c500-4fc9-9c1f-29d7805e0c3c",
   "metadata": {},
   "outputs": [],
   "source": [
    "import torch \n",
    "import matplotlib.pyplot as plt\n",
    "import torch.nn.functional as F"
   ]
  },
  {
   "cell_type": "code",
   "execution_count": 42,
   "id": "c69d17c1-f548-4abd-8049-9d636cd40d74",
   "metadata": {},
   "outputs": [
    {
     "name": "stdout",
     "output_type": "stream",
     "text": [
      "torch.Size([1, 6, 6])\n"
     ]
    },
    {
     "data": {
      "image/png": "[encoded data removed]",
      "text/plain": [
       "<Figure size 640x480 with 1 Axes>"
      ]
     },
     "metadata": {},
     "output_type": "display_data"
    }
   ],
   "source": [
    "image = torch.rand(6,6)\n",
    "plt.imshow(image)\n",
    "image = image.unsqueeze(dim=0)\n",
    "print(image.shape)"
   ]
  },
  {
   "cell_type": "code",
   "execution_count": 46,
   "id": "a5c464a3-356e-4977-8769-53f01f7c13d2",
   "metadata": {},
   "outputs": [
    {
     "name": "stdout",
     "output_type": "stream",
     "text": [
      "torch.Size([1, 2, 2])\n",
      "torch.Size([1, 1, 1])\n",
      "torch.Size([1, 1, 1])\n",
      "torch.Size([1, 4, 4])\n",
      "torch.Size([1, 6, 6])\n",
      "torch.Size([1, 8, 8])\n"
     ]
    }
   ],
   "source": [
    "kernel = torch.ones(5,5).unsqueeze(dim = 0).unsqueeze(dim = 0)\n",
    "outimage = F.conv2d(image, kernel,stride = 1, padding = 0)\n",
    "print(outimage.shape)\n",
    "outimage = F.conv2d(image, kernel,stride = 2, padding = 0)\n",
    "print(outimage.shape)\n",
    "outimage = F.conv2d(image, kernel,stride = 3, padding = 0)\n",
    "print(outimage.shape)\n",
    "outimage = F.conv2d(image, kernel,stride = 1, padding = 1)\n",
    "print(outimage.shape)\n",
    "outimage = F.conv2d(image, kernel,stride = 1, padding = 2)\n",
    "print(outimage.shape)\n",
    "outimage = F.conv2d(image, kernel,stride = 1, padding = 3)\n",
    "print(outimage.shape)"
   ]
  },
  {
   "cell_type": "code",
   "execution_count": 47,
   "id": "ba10dfea-f391-4f57-848f-82a195803e72",
   "metadata": {},
   "outputs": [],
   "source": [
    "kernels = torch.ones(3,1,3,3)"
   ]
  },
  {
   "cell_type": "code",
   "execution_count": 48,
   "id": "15a1ff0c-aae7-40b3-9c4e-498e599a4f00",
   "metadata": {},
   "outputs": [
    {
     "name": "stdout",
     "output_type": "stream",
     "text": [
      "tensor([[[[1., 1., 1.],\n",
      "          [1., 1., 1.],\n",
      "          [1., 1., 1.]]],\n",
      "\n",
      "\n",
      "        [[[1., 1., 1.],\n",
      "          [1., 1., 1.],\n",
      "          [1., 1., 1.]]],\n",
      "\n",
      "\n",
      "        [[[1., 1., 1.],\n",
      "          [1., 1., 1.],\n",
      "          [1., 1., 1.]]]])\n"
     ]
    }
   ],
   "source": [
    "print(kernels)\n"
   ]
  },
  {
   "cell_type": "code",
   "execution_count": 49,
   "id": "93717a5f-0923-4295-b864-685f236c7588",
   "metadata": {},
   "outputs": [],
   "source": [
    "def outputSize(imageDim, kernelDim, stride, padding):\n",
    "    return(imageDim-kernelDim + 2*padding)/stride + 1"
   ]
  },
  {
   "cell_type": "code",
   "execution_count": 50,
   "id": "730ce25d-808d-4158-b85a-0c9fc5f63c28",
   "metadata": {},
   "outputs": [
    {
     "name": "stdout",
     "output_type": "stream",
     "text": [
      "torch.Size([3, 4, 4])\n",
      "torch.Size([3, 4, 4])\n"
     ]
    }
   ],
   "source": [
    "con = torch.nn.Conv2d(in_channels = 1, out_channels = 3, kernel_size = (3,3), stride = 1, padding = 0)\n",
    "output = con(image)\n",
    "print(output.shape)\n",
    "outimage = F.conv2d(image,kernels)\n",
    "print(outimage.shape)\n"
   ]
  },
  {
   "cell_type": "code",
   "execution_count": 51,
   "id": "8a76282a-cd56-496e-8031-e6c5971bafb9",
   "metadata": {},
   "outputs": [],
   "source": [
    "#Q3 and 4"
   ]
  },
  {
   "cell_type": "code",
   "execution_count": 52,
   "id": "f9a45fb3-9c7b-4379-a277-3c3ca9b10280",
   "metadata": {},
   "outputs": [],
   "source": [
    "import torch\n",
    "import matplotlib.pyplot as plt\n",
    "from torch import nn\n",
    "import torchvision\n",
    "import torchvision.transforms as transforms"
   ]
  },
  {
   "cell_type": "code",
   "execution_count": 53,
   "id": "6dfd76dd-f5ba-497f-83ca-681b6e87630d",
   "metadata": {},
   "outputs": [],
   "source": [
    "input_size = 784 # 28x28\n",
    "hidden_size = 500 \n",
    "num_classes = 10\n",
    "num_epochs = 2\n",
    "batch_size = 100\n",
    "learning_rate = 0.001"
   ]
  },
  {
   "cell_type": "code",
   "execution_count": 54,
   "id": "40f3c55a-bb35-42df-a560-89d8dec709db",
   "metadata": {},
   "outputs": [],
   "source": [
    "device = torch.device('cuda' if torch.cuda.is_available() else 'cpu')\n"
   ]
  },
  {
   "cell_type": "code",
   "execution_count": 55,
   "id": "73aa1aca-c63b-4c7d-b93e-acdc1a3edd6d",
   "metadata": {},
   "outputs": [],
   "source": [
    "class CNN(nn.Module):\n",
    "    def __init__(self):\n",
    "        super().__init__()\n",
    "        self.net = nn.Sequential(\n",
    "        nn.Conv2d(1,64,kernel_size=3, padding = 1),\n",
    "        nn.MaxPool2d((2,2), stride = 2),\n",
    "        nn.Conv2d(64,128,kernel_size=3, padding = 1),\n",
    "        nn.MaxPool2d((2,2), stride = 2),\n",
    "        nn.Conv2d(128,64,kernel_size=3, padding = 1),\n",
    "        nn.MaxPool2d((2,2), stride = 2),\n",
    "        nn.ReLU(),\n",
    "        nn.MaxPool2d((2,2), stride = 2))\n",
    "        self.nn = nn.Sequential(nn.Linear(64,20,bias = True),\n",
    "                               nn.ReLU(),\n",
    "                               nn.Linear(20,10,bias = True))\n",
    "    def forward(self, x):\n",
    "        output = self.net(x)\n",
    "        return self.nn(output.view(100,-1))\n"
   ]
  },
  {
   "cell_type": "code",
   "execution_count": 56,
   "id": "22158f35-a1b4-402d-afd2-588f02958bf5",
   "metadata": {},
   "outputs": [],
   "source": [
    "train_dataset = torchvision.datasets.MNIST(root='./data', \n",
    "                                           train=True, \n",
    "                                           transform=transforms.ToTensor(),  \n",
    "                                           download=True)\n",
    "\n",
    "test_dataset = torchvision.datasets.MNIST(root='./data', \n",
    "                                          train=False, \n",
    "                                          transform=transforms.ToTensor())\n"
   ]
  },
  {
   "cell_type": "code",
   "execution_count": 57,
   "id": "bdf45446-b547-4cfb-a423-19142e165e76",
   "metadata": {},
   "outputs": [],
   "source": [
    "train_loader = torch.utils.data.DataLoader(dataset=train_dataset, \n",
    "                                           batch_size=batch_size, \n",
    "                                           shuffle=True)\n",
    "\n",
    "test_loader = torch.utils.data.DataLoader(dataset=test_dataset, \n",
    "                                          batch_size=batch_size, \n",
    "                                          shuffle=False)"
   ]
  },
  {
   "cell_type": "code",
   "execution_count": 58,
   "id": "d5fa5390-f051-4583-b619-63b1fe193af0",
   "metadata": {},
   "outputs": [],
   "source": [
    "model = CNN().to(device)"
   ]
  },
  {
   "cell_type": "code",
   "execution_count": 59,
   "id": "d3af0169-9b15-4250-a1dd-2ea4622c340c",
   "metadata": {},
   "outputs": [],
   "source": [
    "criterion = nn.CrossEntropyLoss()\n",
    "optimizer = torch.optim.Adam(model.parameters(), lr=learning_rate)\n"
   ]
  },
  {
   "cell_type": "code",
   "execution_count": 60,
   "id": "648df862-d92e-4fc7-ad42-3fe49f73f1d0",
   "metadata": {},
   "outputs": [],
   "source": [
    "def trainModel(model, num_epochs,train_loader,optimizer):\n",
    "    n_total_steps = len(train_loader)\n",
    "    for epoch in range(num_epochs):\n",
    "        for i, (images, labels) in enumerate(train_loader):  \n",
    "            # origin shape: [100, 1, 28, 28]\n",
    "            # resized: [100, 784]\n",
    "            # images = images.reshape(-1, 28*28).to(device)\n",
    "            images = images.to(device)\n",
    "            labels = labels.to(device)\n",
    "    \n",
    "            # Forward pass\n",
    "            outputs = model(images)\n",
    "            loss = criterion(outputs, labels)\n",
    "    \n",
    "            # Backward and optimize\n",
    "            optimizer.zero_grad()\n",
    "            loss.backward()\n",
    "            optimizer.step()\n",
    "    \n",
    "            if (i+1) % 100 == 0:\n",
    "                print (f'Epoch [{epoch+1}/{num_epochs}], Step [{i+1}/{n_total_steps}], Loss: {loss.item():.4f}')\n"
   ]
  },
  {
   "cell_type": "code",
   "execution_count": 61,
   "id": "8f9adcc2-4dff-4d94-9068-64fa99f76e68",
   "metadata": {},
   "outputs": [
    {
     "name": "stdout",
     "output_type": "stream",
     "text": [
      "Epoch [1/1], Step [100/600], Loss: 0.3406\n",
      "Epoch [1/1], Step [200/600], Loss: 0.1705\n",
      "Epoch [1/1], Step [300/600], Loss: 0.2106\n",
      "Epoch [1/1], Step [400/600], Loss: 0.1619\n",
      "Epoch [1/1], Step [500/600], Loss: 0.0554\n",
      "Epoch [1/1], Step [600/600], Loss: 0.0729\n"
     ]
    }
   ],
   "source": [
    "trainModel(model,1, train_loader, optimizer)\n"
   ]
  },
  {
   "cell_type": "code",
   "execution_count": 62,
   "id": "59d0d65d-0237-46be-85e9-9d0e4a843169",
   "metadata": {},
   "outputs": [],
   "source": [
    "class CNN2(nn.Module):\n",
    "    def __init__(self):\n",
    "        super().__init__()\n",
    "        self.net = nn.Sequential(\n",
    "        nn.Conv2d(1,32,kernel_size=3, padding = 1),\n",
    "        nn.MaxPool2d((2,2), stride = 2),\n",
    "        nn.Conv2d(32,64,kernel_size=3, padding = 1),\n",
    "        nn.MaxPool2d((2,2), stride = 2),\n",
    "        nn.Conv2d(64,32,kernel_size=3, padding = 1),\n",
    "        nn.MaxPool2d((2,2), stride = 2),\n",
    "        nn.ReLU(),\n",
    "        nn.MaxPool2d((2,2), stride = 2))\n",
    "        self.nn = nn.Sequential(nn.Linear(32,20,bias = True),\n",
    "                               nn.ReLU(),\n",
    "                               nn.Linear(20,10,bias = True))\n",
    "    def forward(self, x):\n",
    "        output = self.net(x)\n",
    "        return self.nn(output.view(100,-1))\n",
    "\n"
   ]
  },
  {
   "cell_type": "code",
   "execution_count": 63,
   "id": "e920cb13-e02a-4ede-bcc8-6a9dccfbdfba",
   "metadata": {},
   "outputs": [],
   "source": [
    "class CNN3(nn.Module):\n",
    "    def __init__(self):\n",
    "        super().__init__()\n",
    "        self.net = nn.Sequential(\n",
    "        nn.Conv2d(1,16,kernel_size=3, padding = 1),\n",
    "        nn.MaxPool2d((2,2), stride = 2),\n",
    "        nn.Conv2d(16,32,kernel_size=3, padding = 1),\n",
    "        nn.MaxPool2d((2,2), stride = 2),\n",
    "        nn.Conv2d(32,16,kernel_size=3, padding = 1),\n",
    "        nn.MaxPool2d((2,2), stride = 2),\n",
    "        nn.ReLU(),\n",
    "        nn.MaxPool2d((2,2), stride = 2))\n",
    "        self.nn = nn.Sequential(nn.Linear(16,20,bias = True),\n",
    "                               nn.ReLU(),\n",
    "                               nn.Linear(20,10,bias = True))\n",
    "    def forward(self, x):\n",
    "        output = self.net(x)\n",
    "        return self.nn(output.view(100,-1))\n"
   ]
  },
  {
   "cell_type": "code",
   "execution_count": 64,
   "id": "38e66602-ce4b-45e6-9e7c-33eb7bb5df3d",
   "metadata": {},
   "outputs": [],
   "source": [
    "class CNN4(nn.Module):\n",
    "    def __init__(self):\n",
    "        super().__init__()\n",
    "        self.net = nn.Sequential(\n",
    "        nn.Conv2d(1,64,kernel_size=3, padding = 2),\n",
    "        nn.MaxPool2d((2,2), stride = 2),\n",
    "        nn.Conv2d(64,128,kernel_size=3, padding = 2),\n",
    "        nn.MaxPool2d((2,2), stride = 2),\n",
    "        nn.Conv2d(128,256,kernel_size=3, padding = 2),\n",
    "        nn.MaxPool2d((2,2), stride = 2),\n",
    "        nn.Conv2d(256,128,kernel_size=3, padding = 2),\n",
    "        nn.MaxPool2d((2,2), stride = 2),\n",
    "        nn.Conv2d(128,64,kernel_size=3, padding = 2),\n",
    "        nn.MaxPool2d((2,2), stride = 2),\n",
    "        nn.ReLU(),\n",
    "        nn.MaxPool2d((2,2), stride = 2))\n",
    "        self.nn = nn.Sequential(nn.Linear(64,20,bias = True),\n",
    "                               nn.ReLU(),\n",
    "                               nn.Linear(20,10,bias = True))\n",
    "    def forward(self, x):\n",
    "        output = self.net(x)\n",
    "        return self.nn(output.view(100,-1))"
   ]
  },
  {
   "cell_type": "code",
   "execution_count": 65,
   "id": "0dfa4764-a9d5-48cc-82de-a989872a2e09",
   "metadata": {},
   "outputs": [],
   "source": [
    "import sklearn\n",
    "from sklearn.metrics import confusion_matrix, ConfusionMatrixDisplay as cdm\n",
    "def test(model, test_loader):\n",
    "    with torch.no_grad():\n",
    "        total = 0\n",
    "        correct = 0\n",
    "        for images, labels in test_loader:\n",
    "            images = images.to(device)\n",
    "            labels = labels.to(device)\n",
    "            outputs = model(images)\n",
    "            _, predicted = torch.max(outputs.data, 1)\n",
    "            total += labels.size(0)\n",
    "            correct += (predicted == labels).sum().item()  \n",
    "    return correct/total\n",
    "\n"
   ]
  },
  {
   "cell_type": "code",
   "execution_count": 66,
   "id": "f331844f-aaa3-4a36-a9ad-c368818829e5",
   "metadata": {},
   "outputs": [
    {
     "name": "stdout",
     "output_type": "stream",
     "text": [
      "Epoch [1/2], Step [100/600], Loss: 0.4666\n",
      "Epoch [1/2], Step [200/600], Loss: 0.2498\n",
      "Epoch [1/2], Step [300/600], Loss: 0.2589\n",
      "Epoch [1/2], Step [400/600], Loss: 0.3273\n",
      "Epoch [1/2], Step [500/600], Loss: 0.1692\n",
      "Epoch [1/2], Step [600/600], Loss: 0.1561\n",
      "Epoch [2/2], Step [100/600], Loss: 0.1699\n",
      "Epoch [2/2], Step [200/600], Loss: 0.0715\n",
      "Epoch [2/2], Step [300/600], Loss: 0.1041\n",
      "Epoch [2/2], Step [400/600], Loss: 0.1823\n",
      "Epoch [2/2], Step [500/600], Loss: 0.0755\n",
      "Epoch [2/2], Step [600/600], Loss: 0.0926\n",
      "Epoch [1/2], Step [100/600], Loss: 0.9234\n",
      "Epoch [1/2], Step [200/600], Loss: 0.6256\n",
      "Epoch [1/2], Step [300/600], Loss: 0.3644\n",
      "Epoch [1/2], Step [400/600], Loss: 0.2996\n",
      "Epoch [1/2], Step [500/600], Loss: 0.4002\n",
      "Epoch [1/2], Step [600/600], Loss: 0.1730\n",
      "Epoch [2/2], Step [100/600], Loss: 0.2739\n",
      "Epoch [2/2], Step [200/600], Loss: 0.2168\n",
      "Epoch [2/2], Step [300/600], Loss: 0.2862\n",
      "Epoch [2/2], Step [400/600], Loss: 0.2563\n",
      "Epoch [2/2], Step [500/600], Loss: 0.1667\n",
      "Epoch [2/2], Step [600/600], Loss: 0.1545\n",
      "Epoch [1/2], Step [100/600], Loss: 0.4141\n",
      "Epoch [1/2], Step [200/600], Loss: 0.2891\n",
      "Epoch [1/2], Step [300/600], Loss: 0.0869\n",
      "Epoch [1/2], Step [400/600], Loss: 0.0664\n",
      "Epoch [1/2], Step [500/600], Loss: 0.0840\n",
      "Epoch [1/2], Step [600/600], Loss: 0.0860\n",
      "Epoch [2/2], Step [100/600], Loss: 0.0114\n",
      "Epoch [2/2], Step [200/600], Loss: 0.0384\n",
      "Epoch [2/2], Step [300/600], Loss: 0.0046\n",
      "Epoch [2/2], Step [400/600], Loss: 0.0476\n",
      "Epoch [2/2], Step [500/600], Loss: 0.1345\n",
      "Epoch [2/2], Step [600/600], Loss: 0.0715\n"
     ]
    }
   ],
   "source": [
    "m1 = CNN().to(device)\n",
    "m2 = CNN2().to(device)\n",
    "m3 = CNN3().to(device)\n",
    "m4 = CNN4().to(device)\n",
    "\n",
    "o1 = torch.optim.Adam(m1.parameters(), lr=learning_rate)\n",
    "o2 = torch.optim.Adam(m2.parameters(), lr=learning_rate)\n",
    "o3 = torch.optim.Adam(m3.parameters(), lr=learning_rate)\n",
    "o4 = torch.optim.Adam(m4.parameters(), lr=learning_rate)\n",
    "\n",
    "#trainModel(m1,2, train_loader, o1)\n",
    "trainModel(m2,2, train_loader, o2)\n",
    "trainModel(m3,2, train_loader, o3)\n",
    "trainModel(m4,2, train_loader, o4)\n",
    "\n"
   ]
  },
  {
   "cell_type": "code",
   "execution_count": 67,
   "id": "24ad963f-1a0e-4034-acc2-b40cd18991a4",
   "metadata": {},
   "outputs": [
    {
     "data": {
      "text/plain": [
       "array([100.        ,  74.53237026,  93.34170016, 394.00259015])"
      ]
     },
     "execution_count": 67,
     "metadata": {},
     "output_type": "execute_result"
    }
   ],
   "source": [
    "m2a = test(m2,test_loader)\n",
    "m3a = test(m3,test_loader)\n",
    "m4a = test(m4,test_loader)\n",
    "m1a = test(model,test_loader)\n",
    "\n",
    "def count_parameters(model):\n",
    "    return sum(p.numel() for p in model.parameters() if p.requires_grad)\n",
    "\n",
    "m2p = count_parameters(m2)\n",
    "m3p = count_parameters(m3)\n",
    "m4p = count_parameters(m4)\n",
    "m1p = count_parameters(model)\n",
    "\n",
    "import numpy as np\n",
    "x = [m1p,m1p-m2p,m1p-m3p,m4p-m1p]\n",
    "\n",
    "x = np.array(x)\n",
    "\n",
    "x / m1p * 100\n",
    "\n"
   ]
  },
  {
   "cell_type": "code",
   "execution_count": 68,
   "id": "e0d181b7-60e9-4313-a8df-390fd2c18824",
   "metadata": {},
   "outputs": [
    {
     "data": {
      "text/plain": [
       "<matplotlib.collections.PathCollection at 0x7fca53f91510>"
      ]
     },
     "execution_count": 68,
     "metadata": {},
     "output_type": "execute_result"
    },
    {
     "data": {
      "image/png": "[encoded data removed]",
      "text/plain": [
       "<Figure size 640x480 with 1 Axes>"
      ]
     },
     "metadata": {},
     "output_type": "display_data"
    }
   ],
   "source": [
    "y = np.array([m1a, m2a, m3a, m4a])\n",
    "plt.scatter(x,y)\n",
    "\n"
   ]
  },
  {
   "cell_type": "code",
   "execution_count": 69,
   "id": "df0d8a4e-65d6-4f36-98c0-c6874a68f585",
   "metadata": {},
   "outputs": [
    {
     "data": {
      "text/plain": [
       "array([0.9669, 0.9736, 0.9496, 0.9844])"
      ]
     },
     "execution_count": 69,
     "metadata": {},
     "output_type": "execute_result"
    }
   ],
   "source": [
    "y"
   ]
  },
  {
   "cell_type": "code",
   "execution_count": null,
   "id": "f1125145-64cd-484f-a37b-ac3c69d91017",
   "metadata": {},
   "outputs": [],
   "source": [
    "x"
   ]
  },
  {
   "cell_type": "code",
   "execution_count": null,
   "id": "ad3d23a1-3ab8-4251-a7ee-36e0f38ae7f7",
   "metadata": {},
   "outputs": [],
   "source": []
  }
 ],
 "metadata": {
  "kernelspec": {
   "display_name": "Python 3 (ipykernel)",
   "language": "python",
   "name": "python3"
  },
  "language_info": {
   "codemirror_mode": {
    "name": "ipython",
    "version": 3
   },
   "file_extension": ".py",
   "mimetype": "text/x-python",
   "name": "python",
   "nbconvert_exporter": "python",
   "pygments_lexer": "ipython3",
   "version": "3.11.7"
  }
 },
 "nbformat": 4,
 "nbformat_minor": 5
}
