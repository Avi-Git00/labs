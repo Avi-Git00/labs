{
 "cells": [
  {
   "cell_type": "code",
   "execution_count": 1,
   "id": "ab59ded2-9dde-477b-86a8-70b6b1470429",
   "metadata": {},
   "outputs": [],
   "source": [
    "import torch\n",
    "import matplotlib.pyplot as plt\n",
    "from torch.utils.data import Dataset, DataLoader\n",
    "import torch.nn as nn\n",
    "import numpy as np"
   ]
  },
  {
   "cell_type": "code",
   "execution_count": 2,
   "id": "9afe16c2-537b-45e4-9f34-66aeb542fa64",
   "metadata": {},
   "outputs": [
    {
     "data": {
      "text/plain": [
       "<torch._C.Generator at 0x7fe72eb9e0f0>"
      ]
     },
     "execution_count": 2,
     "metadata": {},
     "output_type": "execute_result"
    }
   ],
   "source": [
    "losses = []\n",
    "torch.manual_seed(42)"
   ]
  },
  {
   "cell_type": "code",
   "execution_count": 3,
   "id": "4c3adaf1-edc0-4404-a415-044e7c3235da",
   "metadata": {},
   "outputs": [
    {
     "data": {
      "text/plain": [
       "True"
      ]
     },
     "execution_count": 3,
     "metadata": {},
     "output_type": "execute_result"
    }
   ],
   "source": [
    "torch.cuda.is_available()"
   ]
  },
  {
   "cell_type": "code",
   "execution_count": 4,
   "id": "faa72e38-2efe-4498-92bd-d689c1ae9701",
   "metadata": {},
   "outputs": [],
   "source": [
    "x = torch.tensor([[0,0],[0,1],[1,0],[1,1]], dtype=torch.float32)\n",
    "y = torch.tensor([0,1,1,0], dtype = torch.float32)"
   ]
  },
  {
   "cell_type": "code",
   "execution_count": 5,
   "id": "854ac96a-383e-4b3f-b1b4-6034e5f14e12",
   "metadata": {},
   "outputs": [],
   "source": [
    "class xor(nn.Module):\n",
    "    def __init__(self):\n",
    "        super(xor,self).__init__()\n",
    "        self.l1 = nn.Linear(2,2,bias=True)\n",
    "        self.sig1 = nn.ReLU()\n",
    "        self.l2 = nn.Linear(2,1,bias = True)\n",
    "        self.sig2 = nn.ReLU()\n",
    "    def forward(self, x):\n",
    "        x = self.l1(x)\n",
    "        x = self.sig1(x)\n",
    "        x = self.l2(x)\n",
    "        #x = self.sig2(x)\n",
    "        return x"
   ]
  },
  {
   "cell_type": "code",
   "execution_count": 6,
   "id": "a6bab689-8fcb-473b-9db6-90d4a33cac90",
   "metadata": {},
   "outputs": [],
   "source": [
    "class mydata(Dataset):\n",
    "    def __init__(self, x, y):\n",
    "        self.x = x\n",
    "        self.y = y\n",
    "    def __len__(self):\n",
    "        return len(self.x)\n",
    "    def __getitem__(self, id):\n",
    "        return self.x[id].to(torch.device(\"cuda\")), self.y[id].to(\"cuda\")"
   ]
  },
  {
   "cell_type": "code",
   "execution_count": 16,
   "id": "a6aa2350-5511-4d56-aa70-10ad97ef67a2",
   "metadata": {},
   "outputs": [
    {
     "name": "stdout",
     "output_type": "stream",
     "text": [
      "xor(\n",
      "  (l1): Linear(in_features=2, out_features=2, bias=True)\n",
      "  (sig1): ReLU()\n",
      "  (l2): Linear(in_features=2, out_features=1, bias=True)\n",
      "  (sig2): ReLU()\n",
      ")\n"
     ]
    }
   ],
   "source": [
    "data = mydata(x,y)\n",
    "batch = 1\n",
    "loader = DataLoader(data, batch_size = batch, shuffle = True)\n",
    "device = torch.device(\"cuda\")\n",
    "model = xor().to(device)\n",
    "print(model)"
   ]
  },
  {
   "cell_type": "code",
   "execution_count": 17,
   "id": "59eca2ab-3bc1-4215-9245-80be100087d5",
   "metadata": {},
   "outputs": [],
   "source": [
    "loss = torch.nn.MSELoss()\n",
    "optim = torch.optim.SGD(model.parameters(), lr = 0.03)\n"
   ]
  },
  {
   "cell_type": "code",
   "execution_count": 18,
   "id": "89839a66-912e-4967-b855-5df16eda92c1",
   "metadata": {},
   "outputs": [],
   "source": [
    "def train_one_epoch(index):\n",
    "    total = 0\n",
    "    for i, data in enumerate(loader):\n",
    "        inputs, labels = data\n",
    "        optim.zero_grad()\n",
    "        outputs = model(inputs)\n",
    "        l = loss(outputs.flatten(), labels)\n",
    "        l.backward()\n",
    "        optim.step()\n",
    "        total += l.item()\n",
    "    return total/len(loader)/batch"
   ]
  },
  {
   "cell_type": "code",
   "execution_count": 19,
   "id": "500562ca-d39b-4fcc-819b-236c568e419a",
   "metadata": {},
   "outputs": [
    {
     "name": "stdout",
     "output_type": "stream",
     "text": [
      "epoch: 0\n",
      "Loss:0.32554721273481846\n",
      "\n",
      "epoch: 1000\n",
      "Loss:1.4169237953624327e-13\n",
      "\n",
      "epoch: 2000\n",
      "Loss:1.4170052460506406e-13\n",
      "\n",
      "epoch: 3000\n",
      "Loss:1.4602343856653932e-13\n",
      "\n",
      "epoch: 4000\n",
      "Loss:1.3889934260278083e-13\n",
      "\n",
      "epoch: 5000\n",
      "Loss:1.380406002720637e-13\n",
      "\n",
      "epoch: 6000\n",
      "Loss:1.46174203654887e-13\n",
      "\n",
      "epoch: 7000\n",
      "Loss:1.3698016245594635e-13\n",
      "\n",
      "epoch: 8000\n",
      "Loss:1.4056678455769134e-13\n",
      "\n",
      "epoch: 9000\n",
      "Loss:1.386382125095377e-13\n",
      "\n"
     ]
    }
   ],
   "source": [
    "epochs = 10000\n",
    "for epoch in range(epochs):\n",
    "    model.train(True)\n",
    "    l = train_one_epoch(model)\n",
    "    losses.append(l)\n",
    "    if epoch%1000==0:\n",
    "        print(f\"epoch: {epoch}\\nLoss:{l}\\n\")"
   ]
  },
  {
   "cell_type": "code",
   "execution_count": 20,
   "id": "ca51bd5e-bdd3-4d4e-9678-88249b0d622c",
   "metadata": {},
   "outputs": [
    {
     "data": {
      "text/plain": [
       "[<matplotlib.lines.Line2D at 0x7fe64977ec10>]"
      ]
     },
     "execution_count": 20,
     "metadata": {},
     "output_type": "execute_result"
    },
    {
     "data": {
      "image/png": "[encoded data removed]",
      "text/plain": [
       "<Figure size 640x480 with 1 Axes>"
      ]
     },
     "metadata": {},
     "output_type": "display_data"
    }
   ],
   "source": [
    "plt.plot(losses[:170])"
   ]
  },
  {
   "cell_type": "code",
   "execution_count": 21,
   "id": "9f5fac7b-d298-4573-b635-15860c87e57d",
   "metadata": {},
   "outputs": [
    {
     "name": "stdout",
     "output_type": "stream",
     "text": [
      "Parameter containing:\n",
      "tensor([[-0.9436,  0.9436],\n",
      "        [ 0.8584, -0.8584]], device='cuda:0', requires_grad=True) Parameter containing:\n",
      "tensor([-1.5917e-09,  1.3111e-11], device='cuda:0', requires_grad=True)\n"
     ]
    }
   ],
   "source": [
    "print(model.l1.weight, model.l1.bias)"
   ]
  },
  {
   "cell_type": "code",
   "execution_count": 22,
   "id": "78cfdde3-7442-445a-8d30-d9e90b4ef7d5",
   "metadata": {},
   "outputs": [
    {
     "name": "stdout",
     "output_type": "stream",
     "text": [
      "Parameter containing:\n",
      "tensor([[1.0598, 1.1650]], device='cuda:0', requires_grad=True) Parameter containing:\n",
      "tensor([3.4655e-07], device='cuda:0', requires_grad=True)\n"
     ]
    }
   ],
   "source": [
    "print(model.l2.weight, model.l2.bias)"
   ]
  },
  {
   "cell_type": "code",
   "execution_count": 23,
   "id": "6dbb92c7-c768-40ab-bc40-eba4af33c4cf",
   "metadata": {},
   "outputs": [],
   "source": [
    "def relu(x):\n",
    "    return torch.max(torch.tensor(0), x)"
   ]
  },
  {
   "cell_type": "code",
   "execution_count": 24,
   "id": "f5731e0b-ae01-45ae-bebf-904011b6b067",
   "metadata": {},
   "outputs": [
    {
     "name": "stdout",
     "output_type": "stream",
     "text": [
      "tensor([3.4656e-07], device='cuda:0', grad_fn=<MaximumBackward0>)\n"
     ]
    }
   ],
   "source": [
    "test = torch.tensor([0,0], dtype = torch.float32).to(device)\n",
    "answer = 1\n",
    "layer1 = torch.matmul(test,model.l1.weight.T) + model.l1.bias\n",
    "layer1 = relu(layer1)\n",
    "layer2 = torch.matmul(layer1, model.l2.weight.T) + model.l2.bias\n",
    "layer2 = relu(layer2)\n",
    "print(layer2)"
   ]
  },
  {
   "cell_type": "code",
   "execution_count": 25,
   "id": "3adcc8e3-24ed-4f4e-98c2-ce18c608cf0d",
   "metadata": {},
   "outputs": [
    {
     "data": {
      "text/plain": [
       "tensor([3.4656e-07], device='cuda:0', grad_fn=<ViewBackward0>)"
      ]
     },
     "execution_count": 25,
     "metadata": {},
     "output_type": "execute_result"
    }
   ],
   "source": [
    "model(torch.tensor([0,0], dtype = torch.float32).to(device))"
   ]
  },
  {
   "cell_type": "code",
   "execution_count": null,
   "id": "7413ba36-af07-43f8-a690-e7643bce88da",
   "metadata": {},
   "outputs": [],
   "source": []
  }
 ],
 "metadata": {
  "kernelspec": {
   "display_name": "Python 3 (ipykernel)",
   "language": "python",
   "name": "python3"
  },
  "language_info": {
   "codemirror_mode": {
    "name": "ipython",
    "version": 3
   },
   "file_extension": ".py",
   "mimetype": "text/x-python",
   "name": "python",
   "nbconvert_exporter": "python",
   "pygments_lexer": "ipython3",
   "version": "3.11.7"
  }
 },
 "nbformat": 4,
 "nbformat_minor": 5
}
